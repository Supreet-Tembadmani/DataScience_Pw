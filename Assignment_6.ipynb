{
 "cells": [
  {
   "cell_type": "markdown",
   "id": "70ddff8c",
   "metadata": {},
   "source": [
    "\n",
    "Q1. Class and Object in Object-Oriented Programming:\n",
    "\n",
    "Class: A blueprint or template that defines the characteristics and behaviors of an object. It encapsulates data (attributes) and methods (functions) that operate on that data.\n",
    "Example: Consider a class called \"Car\" that has attributes like color, brand, and model, and methods like start(), stop(), and accelerate().\n",
    "Object: An instance of a class. It represents a specific occurrence of a class and can access the attributes and methods defined in the class.\n",
    "Example: An object of the \"Car\" class can be created, such as \"myCar,\" which has its own color, brand, and model, and can perform actions like starting, stopping, and accelerating."
   ]
  },
  {
   "cell_type": "markdown",
   "id": "a1272fbb",
   "metadata": {},
   "source": [
    "Q2. The four pillars of OOPs:\n",
    "\n",
    "Encapsulation: Bundling data and methods (functions) together within a class, providing access to the data through controlled interfaces and hiding implementation details.\n",
    "Inheritance: The ability to create new classes (derived classes) based on existing classes (base or parent classes), inheriting their attributes and methods and allowing for code reuse.\n",
    "Polymorphism: The ability of objects of different classes to respond to the same message or function call in different ways. It allows objects to be processed differently based on their data type or class.\n",
    "Abstraction: The process of simplifying complex systems by breaking them down into smaller, more manageable modules. It focuses on defining essential features while hiding unnecessary details."
   ]
  },
  {
   "cell_type": "markdown",
   "id": "e7dc48c3",
   "metadata": {},
   "source": [
    "Q3. The init() function:\n",
    "The init() function is a special method in Python classes that is automatically called when an object is created from the class. It is used to initialize the attributes of the object and perform any necessary setup."
   ]
  },
  {
   "cell_type": "code",
   "execution_count": 1,
   "id": "8e276d3e",
   "metadata": {},
   "outputs": [
    {
     "name": "stdout",
     "output_type": "stream",
     "text": [
      "John\n",
      "25\n"
     ]
    }
   ],
   "source": [
    "class Person:\n",
    "    def __init__(self, name, age):\n",
    "        self.name = name\n",
    "        self.age = age\n",
    "\n",
    "person1 = Person(\"John\", 25)\n",
    "print(person1.name)  \n",
    "print(person1.age)   \n"
   ]
  },
  {
   "cell_type": "markdown",
   "id": "829018e5",
   "metadata": {},
   "source": [
    "Q4. The use of \"self\" in OOPs:\n",
    "In object-oriented programming, \"self\" is a conventionally used parameter name in methods within a class. It refers to the instance of the object itself and allows access to the object's attributes and methods within the class."
   ]
  },
  {
   "cell_type": "code",
   "execution_count": 3,
   "id": "bb2ff8de",
   "metadata": {},
   "outputs": [
    {
     "name": "stdout",
     "output_type": "stream",
     "text": [
      "78.5\n"
     ]
    }
   ],
   "source": [
    "class Circle:\n",
    "    def __init__(self, radius):\n",
    "        self.radius = radius\n",
    "\n",
    "    def calculate_area(self):\n",
    "        return 3.14 * self.radius * self.radius\n",
    "\n",
    "my_circle = Circle(5)\n",
    "print(my_circle.calculate_area()) \n"
   ]
  },
  {
   "cell_type": "markdown",
   "id": "db87e6f9",
   "metadata": {},
   "source": [
    "5.\n",
    "In Python, the following types of inheritance are supported:\n",
    "\n",
    "Single Inheritance:\n",
    "Single inheritance is when a class inherits from a single base class."
   ]
  },
  {
   "cell_type": "code",
   "execution_count": 4,
   "id": "dfbeb221",
   "metadata": {},
   "outputs": [],
   "source": [
    "class BaseClass:\n",
    "    pass\n",
    "\n",
    "class DerivedClass(BaseClass):\n",
    "    pass\n"
   ]
  },
  {
   "cell_type": "markdown",
   "id": "2c4d367b",
   "metadata": {},
   "source": [
    "Multiple Inheritance:\n",
    "Multiple inheritance is when a class inherits from multiple base classes."
   ]
  },
  {
   "cell_type": "code",
   "execution_count": 5,
   "id": "47e08744",
   "metadata": {},
   "outputs": [],
   "source": [
    "class BaseClass1:\n",
    "    pass\n",
    "\n",
    "class BaseClass2:\n",
    "    pass\n",
    "\n",
    "class DerivedClass(BaseClass1, BaseClass2):\n",
    "    pass\n"
   ]
  },
  {
   "cell_type": "markdown",
   "id": "01850a87",
   "metadata": {},
   "source": [
    "Multilevel Inheritance:\n",
    "Multilevel inheritance is when a derived class inherits from a base class, and that derived class becomes the base class for another class"
   ]
  },
  {
   "cell_type": "code",
   "execution_count": 6,
   "id": "17b1e71e",
   "metadata": {},
   "outputs": [],
   "source": [
    "class BaseClass:\n",
    "    pass\n",
    "\n",
    "class DerivedClass1(BaseClass):\n",
    "    pass\n",
    "\n",
    "class DerivedClass2(DerivedClass1):\n",
    "    pass\n"
   ]
  },
  {
   "cell_type": "markdown",
   "id": "1cbec78c",
   "metadata": {},
   "source": [
    "Hierarchical Inheritance:\n",
    "Hierarchical inheritance is when multiple derived classes inherit from a single base class."
   ]
  },
  {
   "cell_type": "code",
   "execution_count": 7,
   "id": "70666392",
   "metadata": {},
   "outputs": [],
   "source": [
    "class BaseClass:\n",
    "    pass\n",
    "\n",
    "class DerivedClass1(BaseClass):\n",
    "    pass\n",
    "\n",
    "class DerivedClass2(BaseClass):\n",
    "    pass\n"
   ]
  },
  {
   "cell_type": "markdown",
   "id": "95ab357b",
   "metadata": {},
   "source": [
    "Hybrid Inheritance:\n",
    "Hybrid inheritance is a combination of multiple inheritance and hierarchical inheritance."
   ]
  },
  {
   "cell_type": "code",
   "execution_count": 8,
   "id": "3927f04f",
   "metadata": {},
   "outputs": [],
   "source": [
    "class BaseClass1:\n",
    "    pass\n",
    "\n",
    "class BaseClass2:\n",
    "    pass\n",
    "\n",
    "class DerivedClass1(BaseClass1, BaseClass2):\n",
    "    pass\n",
    "\n",
    "class DerivedClass2(BaseClass1):\n",
    "    pass\n"
   ]
  },
  {
   "cell_type": "code",
   "execution_count": null,
   "id": "ec746640",
   "metadata": {},
   "outputs": [],
   "source": []
  }
 ],
 "metadata": {
  "kernelspec": {
   "display_name": "Python 3 (ipykernel)",
   "language": "python",
   "name": "python3"
  },
  "language_info": {
   "codemirror_mode": {
    "name": "ipython",
    "version": 3
   },
   "file_extension": ".py",
   "mimetype": "text/x-python",
   "name": "python",
   "nbconvert_exporter": "python",
   "pygments_lexer": "ipython3",
   "version": "3.10.9"
  }
 },
 "nbformat": 4,
 "nbformat_minor": 5
}
