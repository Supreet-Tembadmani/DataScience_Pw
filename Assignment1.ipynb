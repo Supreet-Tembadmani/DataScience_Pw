{
 "cells": [
  {
   "cell_type": "markdown",
   "id": "21c5e4c5-ea75-4069-8dd6-b1c1625d6053",
   "metadata": {},
   "source": [
    "Q1. Create one variable containing following type of data:\n",
    "(i) string\n",
    "(ii) list\n",
    "(iii) float\n",
    "(iv) tuple"
   ]
  },
  {
   "cell_type": "code",
   "execution_count": 1,
   "id": "1c8fe68b-295f-4230-8904-aa2fd088dc63",
   "metadata": {},
   "outputs": [],
   "source": [
    "ex = ['img', [1,2], 5.0923, (3,\"ab\")]"
   ]
  },
  {
   "cell_type": "code",
   "execution_count": 2,
   "id": "6a4b4d04-75be-48d2-a031-e5e4014cb53f",
   "metadata": {},
   "outputs": [
    {
     "name": "stdout",
     "output_type": "stream",
     "text": [
      "<class 'str'>\n",
      "<class 'list'>\n",
      "<class 'float'>\n",
      "<class 'tuple'>\n"
     ]
    }
   ],
   "source": [
    "for i in ex:\n",
    "    print(type(i))"
   ]
  },
  {
   "cell_type": "markdown",
   "id": "69bca582-fc86-45c9-90f8-3993e4e9ce98",
   "metadata": {},
   "source": [
    "Q2. Given are some following variables containing data:\n",
    "(i) var1 = ‘ ‘\n",
    "(ii) var2 = ‘[ DS , ML , Python]’\n",
    "(iii) var3 = [ ‘DS’ , ’ML’ , ‘Python’ ]\n",
    "(iv) var4 = 1.\n",
    "What will be the data type of the above given variable."
   ]
  },
  {
   "cell_type": "markdown",
   "id": "0b44df74-6cc8-4d57-9e34-188adf025210",
   "metadata": {},
   "source": [
    "i. str\n",
    "ii. str\n",
    "iii. list\n",
    "iv. float"
   ]
  },
  {
   "cell_type": "markdown",
   "id": "6b89248f-4632-49c2-b5c9-126cba550cc8",
   "metadata": {},
   "source": [
    "Q3. Explain the use of the following operators using an example:\n",
    "(i) / : used to divide any two type of numbers\n",
    "(ii) % : performs mod operation i.e gives remainder\n",
    "(iii) // : performs integer division on two numbers\n",
    "(iv) ** : power of operator"
   ]
  },
  {
   "cell_type": "code",
   "execution_count": 11,
   "id": "0150794e-475a-491c-b6cb-37eae5eed2a2",
   "metadata": {},
   "outputs": [
    {
     "data": {
      "text/plain": [
       "2.5"
      ]
     },
     "execution_count": 11,
     "metadata": {},
     "output_type": "execute_result"
    }
   ],
   "source": [
    "5/2"
   ]
  },
  {
   "cell_type": "code",
   "execution_count": 12,
   "id": "a4129919-429f-408d-a78c-f703ece777b9",
   "metadata": {},
   "outputs": [
    {
     "data": {
      "text/plain": [
       "1"
      ]
     },
     "execution_count": 12,
     "metadata": {},
     "output_type": "execute_result"
    }
   ],
   "source": [
    "5%2"
   ]
  },
  {
   "cell_type": "code",
   "execution_count": 13,
   "id": "dc36a24d-6682-4593-a5c2-3c5e70fa3d56",
   "metadata": {},
   "outputs": [
    {
     "data": {
      "text/plain": [
       "1"
      ]
     },
     "execution_count": 13,
     "metadata": {},
     "output_type": "execute_result"
    }
   ],
   "source": [
    "5//4"
   ]
  },
  {
   "cell_type": "code",
   "execution_count": 14,
   "id": "559e008c-a43e-41c6-b7d8-2ccb5ad03de0",
   "metadata": {},
   "outputs": [
    {
     "data": {
      "text/plain": [
       "125"
      ]
     },
     "execution_count": 14,
     "metadata": {},
     "output_type": "execute_result"
    }
   ],
   "source": [
    "5**3"
   ]
  },
  {
   "cell_type": "markdown",
   "id": "7cca9fc7-9bd3-46b5-98a5-00bf86d7f797",
   "metadata": {},
   "source": [
    "Q4. Create a list of length 10 of your choice containing multiple types of data. Using for loop print the\n",
    "element and its data type."
   ]
  },
  {
   "cell_type": "code",
   "execution_count": 16,
   "id": "39d1a845-509b-4325-9270-5383d183b043",
   "metadata": {},
   "outputs": [],
   "source": [
    "l = ['img', [1,2], 5.0923, (3,\"ab\"),5.6,True,None,'raju',{1,2,3}, False]"
   ]
  },
  {
   "cell_type": "code",
   "execution_count": 17,
   "id": "d0ff7402-862e-45f9-bec3-9988df16169a",
   "metadata": {
    "tags": []
   },
   "outputs": [
    {
     "name": "stdout",
     "output_type": "stream",
     "text": [
      "<class 'str'>\n",
      "<class 'list'>\n",
      "<class 'float'>\n",
      "<class 'tuple'>\n",
      "<class 'float'>\n",
      "<class 'bool'>\n",
      "<class 'NoneType'>\n",
      "<class 'str'>\n",
      "<class 'set'>\n",
      "<class 'bool'>\n"
     ]
    }
   ],
   "source": [
    "for j in l:\n",
    "    print(type(j))"
   ]
  },
  {
   "cell_type": "markdown",
   "id": "513b4b0f-efc5-45eb-a0f7-1c8a1a6d1387",
   "metadata": {},
   "source": [
    "Q5. Using a while loop, verify if the number A is purely divisible by number B and if so then how many\n",
    "times it can be divisible."
   ]
  },
  {
   "cell_type": "code",
   "execution_count": 2,
   "id": "53582cce-8def-47a6-90f7-d661f6ee2c60",
   "metadata": {},
   "outputs": [
    {
     "name": "stdin",
     "output_type": "stream",
     "text": [
      " 56\n",
      " 2\n"
     ]
    },
    {
     "name": "stdout",
     "output_type": "stream",
     "text": [
      "3\n"
     ]
    }
   ],
   "source": [
    "a = int(input())\n",
    "b = int(input())\n",
    "count = 0\n",
    "while a%b == 0:\n",
    "    a  = a/b\n",
    "    count  = count + 1\n",
    "print(count)    "
   ]
  },
  {
   "cell_type": "markdown",
   "id": "cee01bff-6578-4e4e-9858-276eed381f9c",
   "metadata": {},
   "source": [
    "Create a list containing 25 int type data. Using for loop and if-else condition print if the element is\n",
    "divisible by 3 or not."
   ]
  },
  {
   "cell_type": "code",
   "execution_count": 7,
   "id": "7f424040-1958-4f50-b9df-92c8f83bbb14",
   "metadata": {},
   "outputs": [
    {
     "name": "stdout",
     "output_type": "stream",
     "text": [
      "0\n",
      "is divisible by 3\n",
      "3\n",
      "is divisible by 3\n",
      "6\n",
      "is divisible by 3\n",
      "9\n",
      "is divisible by 3\n",
      "12\n",
      "is divisible by 3\n",
      "15\n",
      "is divisible by 3\n",
      "18\n",
      "is divisible by 3\n",
      "21\n",
      "is divisible by 3\n",
      "24\n",
      "is divisible by 3\n"
     ]
    }
   ],
   "source": [
    "my_list = []\n",
    "\n",
    "for num in range(0,25):\n",
    "    my_list.append(num)\n",
    "\n",
    "for i  in my_list:\n",
    "    if i%3 == 0:\n",
    "        print(i)\n",
    "        print(\"is divisible by 3\")"
   ]
  },
  {
   "cell_type": "markdown",
   "id": "00d67ed5-5ca0-4020-a9b2-86c6d0e16e00",
   "metadata": {},
   "source": [
    "Q7. What do you understand about mutable and immutable data types? Give examples for both showing\n",
    "this property."
   ]
  },
  {
   "cell_type": "markdown",
   "id": "db3bea82-25a0-424d-9553-35795dec34c5",
   "metadata": {},
   "source": [
    "Mutable datatypes are those which can be edited\n",
    "    ex : list,dict\n",
    "ImMutable datatypes are those which cannot be edited   \n",
    "    ex : string,tuple"
   ]
  },
  {
   "cell_type": "code",
   "execution_count": 9,
   "id": "27a2a3ac-c4f6-4e63-b6c7-c0bb944f0f7b",
   "metadata": {},
   "outputs": [],
   "source": [
    "l_ex = [ 1,2,3]\n",
    "l_ex.append(3)"
   ]
  },
  {
   "cell_type": "code",
   "execution_count": 11,
   "id": "d67f2e72-e7d3-4c42-a742-212fb51397ff",
   "metadata": {},
   "outputs": [
    {
     "ename": "AttributeError",
     "evalue": "'tuple' object has no attribute 'append'",
     "output_type": "error",
     "traceback": [
      "\u001b[0;31m---------------------------------------------------------------------------\u001b[0m",
      "\u001b[0;31mAttributeError\u001b[0m                            Traceback (most recent call last)",
      "Cell \u001b[0;32mIn[11], line 2\u001b[0m\n\u001b[1;32m      1\u001b[0m l_ex2 \u001b[38;5;241m=\u001b[39m (\u001b[38;5;241m3\u001b[39m,\u001b[38;5;124m\"\u001b[39m\u001b[38;5;124mab\u001b[39m\u001b[38;5;124m\"\u001b[39m,\u001b[38;5;241m67\u001b[39m)\n\u001b[0;32m----> 2\u001b[0m \u001b[43ml_ex2\u001b[49m\u001b[38;5;241;43m.\u001b[39;49m\u001b[43mappend\u001b[49m(\u001b[38;5;241m4\u001b[39m)\n",
      "\u001b[0;31mAttributeError\u001b[0m: 'tuple' object has no attribute 'append'"
     ]
    }
   ],
   "source": [
    "l_ex2 = (3,\"ab\",67)\n",
    "l_ex2.append(4) # throws error"
   ]
  },
  {
   "cell_type": "code",
   "execution_count": null,
   "id": "c7c402c1-6a67-46fc-963e-9d554abd154b",
   "metadata": {},
   "outputs": [],
   "source": []
  }
 ],
 "metadata": {
  "kernelspec": {
   "display_name": "Python 3 (ipykernel)",
   "language": "python",
   "name": "python3"
  },
  "language_info": {
   "codemirror_mode": {
    "name": "ipython",
    "version": 3
   },
   "file_extension": ".py",
   "mimetype": "text/x-python",
   "name": "python",
   "nbconvert_exporter": "python",
   "pygments_lexer": "ipython3",
   "version": "3.10.9"
  }
 },
 "nbformat": 4,
 "nbformat_minor": 5
}
