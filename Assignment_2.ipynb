{
 "cells": [
  {
   "cell_type": "markdown",
   "id": "229ece10",
   "metadata": {},
   "source": [
    "# Q1. How do you comment code in Python? What are the different types of comments?"
   ]
  },
  {
   "cell_type": "markdown",
   "id": "fcd51438",
   "metadata": {},
   "source": [
    "We comment using # symbol, there are 2 types of comments\n",
    "i. inline comments\n",
    "ii. block comments"
   ]
  },
  {
   "cell_type": "markdown",
   "id": "b3df3bd7",
   "metadata": {},
   "source": [
    "# Q2. What are variables in Python? How do you declare and assign values to variables?"
   ]
  },
  {
   "cell_type": "markdown",
   "id": "1a833359",
   "metadata": {},
   "source": [
    "Variables are the containers which store address or reference to the data assigned to them which is in the memory.\n",
    "IN py, there is no requirement of providing data types to the variables, we directly assign them, just need to make sure they are not named with keywords.\n",
    "ex : a = [1,2,3]\n",
    "     b = 'raju'"
   ]
  },
  {
   "cell_type": "markdown",
   "id": "dfcfe284",
   "metadata": {},
   "source": [
    "# Q3. How do you convert one data type to another in Python?"
   ]
  },
  {
   "cell_type": "markdown",
   "id": "ba87f0e1",
   "metadata": {},
   "source": [
    "We can convert one data type to another in Python by typecasting."
   ]
  },
  {
   "cell_type": "code",
   "execution_count": 3,
   "id": "5575db18",
   "metadata": {},
   "outputs": [],
   "source": [
    "a = 5\n",
    "a = float(a)"
   ]
  },
  {
   "cell_type": "code",
   "execution_count": 4,
   "id": "9e218ac5",
   "metadata": {},
   "outputs": [
    {
     "data": {
      "text/plain": [
       "float"
      ]
     },
     "execution_count": 4,
     "metadata": {},
     "output_type": "execute_result"
    }
   ],
   "source": [
    "type(a)"
   ]
  },
  {
   "cell_type": "code",
   "execution_count": 6,
   "id": "19309dc9",
   "metadata": {},
   "outputs": [],
   "source": [
    "b = {1,2,3,4}"
   ]
  },
  {
   "cell_type": "code",
   "execution_count": 7,
   "id": "e62cdaa2",
   "metadata": {},
   "outputs": [],
   "source": [
    "b = list(b)"
   ]
  },
  {
   "cell_type": "code",
   "execution_count": 8,
   "id": "0e8e03dd",
   "metadata": {},
   "outputs": [
    {
     "data": {
      "text/plain": [
       "list"
      ]
     },
     "execution_count": 8,
     "metadata": {},
     "output_type": "execute_result"
    }
   ],
   "source": [
    "type(b)"
   ]
  },
  {
   "cell_type": "markdown",
   "id": "f9a39bfd",
   "metadata": {},
   "source": [
    "# Q4. How do you write and execute a Python script from the command line?"
   ]
  },
  {
   "cell_type": "markdown",
   "id": "49016728",
   "metadata": {},
   "source": [
    "Create a new file with a .py extension, like \"script.py\".\n",
    "Write your Python code in the file.\n",
    "Save the file.\n",
    "Open the command line or terminal.\n",
    "Navigate to the directory where the script is located.\n",
    "Run the script using the command: python script.py."
   ]
  },
  {
   "cell_type": "markdown",
   "id": "9fc184bc",
   "metadata": {},
   "source": [
    "# Q5. Given a list my_list = [1, 2, 3, 4, 5], write the code to slice the list and obtain the sub-list [2, 3]."
   ]
  },
  {
   "cell_type": "code",
   "execution_count": 9,
   "id": "da32f483",
   "metadata": {},
   "outputs": [],
   "source": [
    "my_list = [1, 2, 3, 4, 5]"
   ]
  },
  {
   "cell_type": "code",
   "execution_count": 10,
   "id": "dc156598",
   "metadata": {},
   "outputs": [
    {
     "data": {
      "text/plain": [
       "[2, 3]"
      ]
     },
     "execution_count": 10,
     "metadata": {},
     "output_type": "execute_result"
    }
   ],
   "source": [
    "my_list[1:3]"
   ]
  },
  {
   "cell_type": "markdown",
   "id": "43aa5d31",
   "metadata": {},
   "source": [
    "# Q6. What is a complex number in mathematics, and how is it represented in Python?"
   ]
  },
  {
   "cell_type": "code",
   "execution_count": 11,
   "id": "0b4c36d5",
   "metadata": {},
   "outputs": [],
   "source": [
    "#Complex num is a num which has a real and an imaginary part\n",
    "cmplx = 1 + 7j"
   ]
  },
  {
   "cell_type": "code",
   "execution_count": 12,
   "id": "a80885ab",
   "metadata": {},
   "outputs": [
    {
     "data": {
      "text/plain": [
       "complex"
      ]
     },
     "execution_count": 12,
     "metadata": {},
     "output_type": "execute_result"
    }
   ],
   "source": [
    "type(cmplx)"
   ]
  },
  {
   "cell_type": "markdown",
   "id": "50d8e37c",
   "metadata": {},
   "source": [
    "# Q7. What is the correct way to declare a variable named age and assign the value 25 to it?"
   ]
  },
  {
   "cell_type": "code",
   "execution_count": 13,
   "id": "13a981ca",
   "metadata": {},
   "outputs": [],
   "source": [
    "var = 25"
   ]
  },
  {
   "cell_type": "markdown",
   "id": "ff7fcd24",
   "metadata": {},
   "source": [
    "# Q8. Declare a variable named price and assign the value 9.99 to it. What data type does this variable\n",
    "belong to?"
   ]
  },
  {
   "cell_type": "code",
   "execution_count": 14,
   "id": "f3ff6dd6",
   "metadata": {},
   "outputs": [],
   "source": [
    "var2 = 9.99"
   ]
  },
  {
   "cell_type": "code",
   "execution_count": 15,
   "id": "dc92db40",
   "metadata": {},
   "outputs": [
    {
     "data": {
      "text/plain": [
       "float"
      ]
     },
     "execution_count": 15,
     "metadata": {},
     "output_type": "execute_result"
    }
   ],
   "source": [
    "type(var2)"
   ]
  },
  {
   "cell_type": "markdown",
   "id": "c187c8f9",
   "metadata": {},
   "source": [
    "# Q9. Create a variable named name and assign your full name to it as a string. How would you print the value of this variable?"
   ]
  },
  {
   "cell_type": "code",
   "execution_count": 16,
   "id": "004b2e73",
   "metadata": {},
   "outputs": [],
   "source": [
    "name = 'Supreet Tembadmani'"
   ]
  },
  {
   "cell_type": "code",
   "execution_count": 17,
   "id": "f22a9e33",
   "metadata": {},
   "outputs": [
    {
     "name": "stdout",
     "output_type": "stream",
     "text": [
      "Supreet Tembadmani\n"
     ]
    }
   ],
   "source": [
    "print(name)"
   ]
  },
  {
   "cell_type": "markdown",
   "id": "b79d4799",
   "metadata": {},
   "source": [
    "# Q10. Given the string \"Hello, World!\", extract the substring \"World\"."
   ]
  },
  {
   "cell_type": "code",
   "execution_count": 18,
   "id": "26b0f623",
   "metadata": {},
   "outputs": [],
   "source": [
    "string = 'Hello World'"
   ]
  },
  {
   "cell_type": "code",
   "execution_count": 20,
   "id": "eef81c5e",
   "metadata": {},
   "outputs": [
    {
     "data": {
      "text/plain": [
       "'World'"
      ]
     },
     "execution_count": 20,
     "metadata": {},
     "output_type": "execute_result"
    }
   ],
   "source": [
    "string[6::]"
   ]
  },
  {
   "cell_type": "markdown",
   "id": "1a99a279",
   "metadata": {},
   "source": [
    "# Q11. Create a variable named \"is_student\" and assign it a boolean value indicating whether you are currently a student or not."
   ]
  },
  {
   "cell_type": "code",
   "execution_count": 21,
   "id": "b9786280",
   "metadata": {},
   "outputs": [],
   "source": [
    "is_student = True"
   ]
  },
  {
   "cell_type": "code",
   "execution_count": 22,
   "id": "ca1a8d3d",
   "metadata": {},
   "outputs": [
    {
     "data": {
      "text/plain": [
       "bool"
      ]
     },
     "execution_count": 22,
     "metadata": {},
     "output_type": "execute_result"
    }
   ],
   "source": [
    "type(is_student)"
   ]
  },
  {
   "cell_type": "code",
   "execution_count": null,
   "id": "b080ab77",
   "metadata": {},
   "outputs": [],
   "source": []
  }
 ],
 "metadata": {
  "kernelspec": {
   "display_name": "Python 3 (ipykernel)",
   "language": "python",
   "name": "python3"
  },
  "language_info": {
   "codemirror_mode": {
    "name": "ipython",
    "version": 3
   },
   "file_extension": ".py",
   "mimetype": "text/x-python",
   "name": "python",
   "nbconvert_exporter": "python",
   "pygments_lexer": "ipython3",
   "version": "3.10.9"
  }
 },
 "nbformat": 4,
 "nbformat_minor": 5
}
