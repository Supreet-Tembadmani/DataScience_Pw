{
 "cells": [
  {
   "cell_type": "markdown",
   "id": "8d79bfbd",
   "metadata": {},
   "source": [
    "# Q1. Which keyword is used to create a function? Create a function to return a list of odd numbers in the range of 1 to 25."
   ]
  },
  {
   "cell_type": "code",
   "execution_count": 7,
   "id": "0696ea55",
   "metadata": {},
   "outputs": [],
   "source": [
    "# def keyword is used to create a function\n",
    "\n",
    "def odd() :\n",
    "    for i in range(1,25):\n",
    "        if i%2 != 0:\n",
    "            print(i)\n",
    "            i = i +1"
   ]
  },
  {
   "cell_type": "code",
   "execution_count": 8,
   "id": "3360c4c1",
   "metadata": {},
   "outputs": [
    {
     "name": "stdout",
     "output_type": "stream",
     "text": [
      "1\n",
      "3\n",
      "5\n",
      "7\n",
      "9\n",
      "11\n",
      "13\n",
      "15\n",
      "17\n",
      "19\n",
      "21\n",
      "23\n"
     ]
    }
   ],
   "source": [
    "odd()"
   ]
  },
  {
   "cell_type": "markdown",
   "id": "0868e751",
   "metadata": {},
   "source": [
    "## Q2. Why *args and **kwargs is used in some functions? Create a function each for *args and **kwargs to demonstrate their use."
   ]
  },
  {
   "cell_type": "markdown",
   "id": "3aeac5a4",
   "metadata": {},
   "source": [
    " *args and **kwargs is used in some functions to provide multiple arguments as an input to a function.\n",
    " i. to give *args as an input we have to add a '*' and any name indicating args as an input"
   ]
  },
  {
   "cell_type": "code",
   "execution_count": 15,
   "id": "8c33141d",
   "metadata": {},
   "outputs": [],
   "source": [
    "def add(*args):\n",
    "    sum = 0\n",
    "    for i in args:\n",
    "        sum = sum + i\n",
    "    return sum"
   ]
  },
  {
   "cell_type": "code",
   "execution_count": 16,
   "id": "8ed6ab59",
   "metadata": {},
   "outputs": [
    {
     "data": {
      "text/plain": [
       "18"
      ]
     },
     "execution_count": 16,
     "metadata": {},
     "output_type": "execute_result"
    }
   ],
   "source": [
    "add(3,4,5,6)"
   ]
  },
  {
   "cell_type": "markdown",
   "id": "49b372b4",
   "metadata": {},
   "source": [
    " ii. to give **kwargs as an input we have to add a '**' and any name indicating kewword argument as an input which are in the form of key value pairs"
   ]
  },
  {
   "cell_type": "code",
   "execution_count": 8,
   "id": "365a2aa5",
   "metadata": {},
   "outputs": [],
   "source": [
    "def x(**kw):\n",
    "    for key, value in kw.items():\n",
    "        print(f\"{key}: {value}\")"
   ]
  },
  {
   "cell_type": "code",
   "execution_count": 9,
   "id": "ac72b8e3",
   "metadata": {},
   "outputs": [
    {
     "name": "stdout",
     "output_type": "stream",
     "text": [
      "name: John Doe\n",
      "age: 25\n",
      "city: New York\n"
     ]
    }
   ],
   "source": [
    "x(name=\"John Doe\", age=25, city=\"New York\")"
   ]
  },
  {
   "cell_type": "markdown",
   "id": "e9aca70a",
   "metadata": {},
   "source": [
    "# Q3. What is an iterator in python? Name the method used to initialise the iterator object and the method used for iteration. Use these methods to print the first five elements of the given list [2, 4, 6, 8, 10, 12, 14,16, 18, 20]."
   ]
  },
  {
   "cell_type": "code",
   "execution_count": 10,
   "id": "4b9a6018",
   "metadata": {},
   "outputs": [
    {
     "data": {
      "text/plain": [
       "<list_iterator at 0x111bbc9d0>"
      ]
     },
     "execution_count": 10,
     "metadata": {},
     "output_type": "execute_result"
    }
   ],
   "source": [
    "#n Python, an iterator is an object that implements the iterator protocol, which consists of two methods:\n",
    "# iter() and next()\n",
    "\n",
    "a = [2, 4, 6, 8, 10, 12, 14,16, 18, 20]\n",
    "\n"
   ]
  },
  {
   "cell_type": "code",
   "execution_count": 13,
   "id": "a1b71ba9",
   "metadata": {},
   "outputs": [],
   "source": [
    "b = iter(a)"
   ]
  },
  {
   "cell_type": "code",
   "execution_count": 14,
   "id": "400ed763",
   "metadata": {},
   "outputs": [
    {
     "data": {
      "text/plain": [
       "2"
      ]
     },
     "execution_count": 14,
     "metadata": {},
     "output_type": "execute_result"
    }
   ],
   "source": [
    "next(b)"
   ]
  },
  {
   "cell_type": "code",
   "execution_count": 15,
   "id": "99ab5a41",
   "metadata": {},
   "outputs": [
    {
     "data": {
      "text/plain": [
       "4"
      ]
     },
     "execution_count": 15,
     "metadata": {},
     "output_type": "execute_result"
    }
   ],
   "source": [
    "next(b)"
   ]
  },
  {
   "cell_type": "code",
   "execution_count": 16,
   "id": "a4793f2b",
   "metadata": {},
   "outputs": [
    {
     "data": {
      "text/plain": [
       "6"
      ]
     },
     "execution_count": 16,
     "metadata": {},
     "output_type": "execute_result"
    }
   ],
   "source": [
    "next(b)"
   ]
  },
  {
   "cell_type": "code",
   "execution_count": 17,
   "id": "27b60c3a",
   "metadata": {},
   "outputs": [
    {
     "data": {
      "text/plain": [
       "8"
      ]
     },
     "execution_count": 17,
     "metadata": {},
     "output_type": "execute_result"
    }
   ],
   "source": [
    "next(b)"
   ]
  },
  {
   "cell_type": "code",
   "execution_count": 18,
   "id": "d76bfae6",
   "metadata": {},
   "outputs": [
    {
     "data": {
      "text/plain": [
       "10"
      ]
     },
     "execution_count": 18,
     "metadata": {},
     "output_type": "execute_result"
    }
   ],
   "source": [
    "next(b)"
   ]
  },
  {
   "cell_type": "markdown",
   "id": "a04d351a",
   "metadata": {},
   "source": [
    "# Q4. What is a generator function in python? Why yield keyword is used? Give an example of a generator function."
   ]
  },
  {
   "cell_type": "markdown",
   "id": "c6a1ee1c",
   "metadata": {},
   "source": [
    "a generator function is a special type of function that generates a sequence of values using the yield keyword. It allows to create iterators in a more concise and memory-efficient way compared to traditional iterable objects like lists.\n",
    "\n",
    "The yield keyword is used in generator functions to define points where the generator should pause and yield a value to the caller. "
   ]
  },
  {
   "cell_type": "code",
   "execution_count": 20,
   "id": "592a4cb2",
   "metadata": {},
   "outputs": [
    {
     "name": "stdout",
     "output_type": "stream",
     "text": [
      "0\n",
      "2\n",
      "4\n",
      "6\n",
      "8\n"
     ]
    }
   ],
   "source": [
    "def generate_even_numbers():\n",
    "    num = 0\n",
    "    while True:\n",
    "        yield num\n",
    "        num += 2\n",
    "\n",
    "# Create a generator object\n",
    "even_generator = generate_even_numbers()\n",
    "\n",
    "# Print the first 5 even numbers\n",
    "for _ in range(5):\n",
    "    even_number = next(even_generator)\n",
    "    print(even_number)\n"
   ]
  },
  {
   "cell_type": "markdown",
   "id": "ca1da89e",
   "metadata": {},
   "source": [
    "# Q5. Create a generator function for prime numbers less than 1000. Use the next() method to print the first 20 prime numbers."
   ]
  },
  {
   "cell_type": "code",
   "execution_count": 19,
   "id": "31080633",
   "metadata": {},
   "outputs": [
    {
     "name": "stdout",
     "output_type": "stream",
     "text": [
      "2\n",
      "3\n",
      "5\n",
      "7\n",
      "11\n",
      "13\n",
      "17\n",
      "19\n",
      "23\n",
      "29\n",
      "31\n",
      "37\n",
      "41\n",
      "43\n",
      "47\n",
      "53\n",
      "59\n",
      "61\n",
      "67\n",
      "71\n"
     ]
    }
   ],
   "source": [
    "def generate_primes():\n",
    "    primes = []\n",
    "    num = 2\n",
    "\n",
    "    while True:\n",
    "        is_prime = True\n",
    "\n",
    "        for prime in primes:\n",
    "            if num % prime == 0:\n",
    "                is_prime = False\n",
    "                break\n",
    "\n",
    "        if is_prime:\n",
    "            primes.append(num)\n",
    "            yield num\n",
    "\n",
    "        num += 1\n",
    "\n",
    "prime_generator = generate_primes()\n",
    "\n",
    "for _ in range(20):\n",
    "    prime_number = next(prime_generator)\n",
    "    print(prime_number)\n"
   ]
  },
  {
   "cell_type": "markdown",
   "id": "32554f8a",
   "metadata": {},
   "source": [
    "# Q6. Write a python program to print the first 10 Fibonacci numbers using a while loop."
   ]
  },
  {
   "cell_type": "code",
   "execution_count": 1,
   "id": "80e5aa21",
   "metadata": {},
   "outputs": [
    {
     "data": {
      "text/plain": [
       "[1, 1, 2, 3, 5, 8, 13, 21, 34, 55, 89]"
      ]
     },
     "execution_count": 1,
     "metadata": {},
     "output_type": "execute_result"
    }
   ],
   "source": [
    "a,b = 0,1\n",
    "l =[]\n",
    "num = 0\n",
    "while num  < 11:\n",
    "    a,b = b,a+b\n",
    "    l.append(a)\n",
    "    num += 1\n",
    "l    "
   ]
  },
  {
   "cell_type": "markdown",
   "id": "1a8373a2",
   "metadata": {},
   "source": [
    "# Q7. Write a List Comprehension to iterate through the given string: ‘pwskills’.\n",
    "Expected output: ['p', 'w', 's', 'k', 'i', 'l', 'l', 's']"
   ]
  },
  {
   "cell_type": "code",
   "execution_count": 6,
   "id": "2828e457",
   "metadata": {},
   "outputs": [
    {
     "data": {
      "text/plain": [
       "['p', 'w', 's', 'k', 'i', 'l', 'l', 's']"
      ]
     },
     "execution_count": 6,
     "metadata": {},
     "output_type": "execute_result"
    }
   ],
   "source": [
    "a = 'pwskills'\n",
    "l4 = [i for i in a]\n",
    "l4"
   ]
  },
  {
   "cell_type": "markdown",
   "id": "7c164266",
   "metadata": {},
   "source": [
    "# Q8. Write a python program to check whether a given number is Palindrome or not using a while loop."
   ]
  },
  {
   "cell_type": "code",
   "execution_count": 7,
   "id": "2fe46b6c",
   "metadata": {},
   "outputs": [
    {
     "name": "stdout",
     "output_type": "stream",
     "text": [
      "Enter a number: 787\n",
      "787 is a palindrome\n"
     ]
    }
   ],
   "source": [
    "def is_palindrome(number):\n",
    "    original_number = number\n",
    "    reversed_number = 0\n",
    "\n",
    "    while number > 0:\n",
    "        digit = number % 10\n",
    "        reversed_number = reversed_number * 10 + digit\n",
    "        number = number // 10\n",
    "\n",
    "    if original_number == reversed_number:\n",
    "        return True\n",
    "    else:\n",
    "        return False\n",
    "\n",
    "\n",
    "number = int(input(\"Enter a number: \"))\n",
    "\n",
    "if is_palindrome(number):\n",
    "    print(f\"{number} is a palindrome\")\n",
    "else:\n",
    "    print(f\"{number} is not a palindrome\")\n"
   ]
  },
  {
   "cell_type": "markdown",
   "id": "49fa64f4",
   "metadata": {},
   "source": [
    "# Q9. Write a code to print odd numbers from 1 to 100 using list comprehension."
   ]
  },
  {
   "cell_type": "code",
   "execution_count": 8,
   "id": "fdd64b47",
   "metadata": {},
   "outputs": [],
   "source": [
    "a = [i for i in range(1,100) if i%2 !=0]\n"
   ]
  },
  {
   "cell_type": "code",
   "execution_count": 9,
   "id": "0c288cd0",
   "metadata": {},
   "outputs": [
    {
     "data": {
      "text/plain": [
       "[1,\n",
       " 3,\n",
       " 5,\n",
       " 7,\n",
       " 9,\n",
       " 11,\n",
       " 13,\n",
       " 15,\n",
       " 17,\n",
       " 19,\n",
       " 21,\n",
       " 23,\n",
       " 25,\n",
       " 27,\n",
       " 29,\n",
       " 31,\n",
       " 33,\n",
       " 35,\n",
       " 37,\n",
       " 39,\n",
       " 41,\n",
       " 43,\n",
       " 45,\n",
       " 47,\n",
       " 49,\n",
       " 51,\n",
       " 53,\n",
       " 55,\n",
       " 57,\n",
       " 59,\n",
       " 61,\n",
       " 63,\n",
       " 65,\n",
       " 67,\n",
       " 69,\n",
       " 71,\n",
       " 73,\n",
       " 75,\n",
       " 77,\n",
       " 79,\n",
       " 81,\n",
       " 83,\n",
       " 85,\n",
       " 87,\n",
       " 89,\n",
       " 91,\n",
       " 93,\n",
       " 95,\n",
       " 97,\n",
       " 99]"
      ]
     },
     "execution_count": 9,
     "metadata": {},
     "output_type": "execute_result"
    }
   ],
   "source": [
    "a"
   ]
  },
  {
   "cell_type": "code",
   "execution_count": null,
   "id": "5c3f9035",
   "metadata": {},
   "outputs": [],
   "source": []
  }
 ],
 "metadata": {
  "kernelspec": {
   "display_name": "Python 3 (ipykernel)",
   "language": "python",
   "name": "python3"
  },
  "language_info": {
   "codemirror_mode": {
    "name": "ipython",
    "version": 3
   },
   "file_extension": ".py",
   "mimetype": "text/x-python",
   "name": "python",
   "nbconvert_exporter": "python",
   "pygments_lexer": "ipython3",
   "version": "3.10.9"
  }
 },
 "nbformat": 4,
 "nbformat_minor": 5
}
