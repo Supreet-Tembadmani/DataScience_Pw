{
 "cells": [
  {
   "cell_type": "markdown",
   "id": "46b75186",
   "metadata": {},
   "source": [
    "\n",
    "Q1. Abstraction in OOPs:\n",
    "Abstraction is a principle in oop that focuses on simplifying complex systems by breaking them down into smaller, more manageable modules. It involves hiding unnecessary implementation details and exposing only the essential features or behaviors of an object.\n",
    "\n",
    "Example:\n",
    "Consider a class called \"Shape\" that represents different geometric shapes. The \"Shape\" class can have methods like calculate_area() and calculate_perimeter(). These methods provide a high-level abstraction of what shapes can do without exposing the specific implementation details of each shape. Subclasses like \"Circle\" and \"Rectangle\" can inherit from the \"Shape\" class and provide their own implementation of these methods. This abstraction allows users of the class to interact with shapes without needing to understand the specific calculations or algorithms behind them.\n",
    "\n",
    "Q2. Difference between Abstraction and Encapsulation:\n",
    "\n",
    "Abstraction:\n",
    "\n",
    "Abstraction focuses on providing a simplified view of an object or system, emphasizing only the essential features and hiding unnecessary details.\n",
    "It allows users to interact with objects at a higher level without being concerned with the specific implementation.\n",
    "Example: A car's dashboard provides abstraction by displaying essential information like speed, fuel level, and temperature, while hiding the internal mechanisms of the car.\n",
    "Encapsulation:\n",
    "\n",
    "Encapsulation is the bundling of data (attributes) and methods (functions) within a class, and controlling access to them through well-defined interfaces.\n",
    "It provides data protection and prevents direct access or modification of internal data from outside the class.\n",
    "Example: A class representing a bank account can encapsulate the account balance and provide methods like deposit() and withdraw() to interact with the balance securely.\n",
    "In summary, abstraction is about simplifying the representation of an object, while encapsulation is about bundling data and methods together and controlling access to them.\n",
    "\n",
    "Q3. abc module in Python:\n",
    "The \"abc\" module in Python stands for Abstract Base Classes. It provides the infrastructure for defining abstract base classes in Python. Abstract base classes are classes that cannot be instantiated directly but serve as a blueprint for other classes.\n",
    "\n",
    "The \"abc\" module is used to define abstract base classes using the ABCMeta metaclass and the @abstractmethod decorator. By subclassing from an abstract base class, a concrete class must provide an implementation for all abstract methods defined in the base class.\n",
    "\n",
    "The \"abc\" module is used to enforce class hierarchies and ensure that certain methods are implemented in derived classes. It helps in achieving abstraction and provides a way to define common interfaces or contracts for classes.\n",
    "\n",
    "Q4. Achieving Data Abstraction:\n",
    "Data abstraction in OOP is achieved by separating the interface (public methods) from the implementation (private details). It allows users of a class to interact with objects using only the public methods, without needing to know the underlying implementation.\n",
    "\n",
    "In Python, data abstraction can be achieved by using access modifiers. By convention, attributes and methods prefixed with a single underscore (_) are considered internal, indicating that they are intended for internal use within the class. Attributes and methods without any prefix or with a double underscore (__) are considered public and can be accessed from outside the class.\n",
    "\n",
    "Q5. Creating an Instance of an Abstract Class:\n",
    "No, we cannot create an instance of an abstract class in Python. Abstract classes are meant to serve as blueprints or templates for other classes to inherit from. They are incomplete classes that define the common interface but may not provide implementations for all methods.\n",
    "\n",
    "Attempting to create an instance of an abstract class will result in a TypeError. The purpose of an abstract class is to be subclassed and provide concrete implementations for its abstract methods in the derived classes.\n"
   ]
  }
 ],
 "metadata": {
  "kernelspec": {
   "display_name": "Python 3 (ipykernel)",
   "language": "python",
   "name": "python3"
  },
  "language_info": {
   "codemirror_mode": {
    "name": "ipython",
    "version": 3
   },
   "file_extension": ".py",
   "mimetype": "text/x-python",
   "name": "python",
   "nbconvert_exporter": "python",
   "pygments_lexer": "ipython3",
   "version": "3.10.9"
  }
 },
 "nbformat": 4,
 "nbformat_minor": 5
}
