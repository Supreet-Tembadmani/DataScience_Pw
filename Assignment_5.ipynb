{
 "cells": [
  {
   "cell_type": "markdown",
   "id": "c3f0e8a8",
   "metadata": {},
   "source": [
    "Q1, Create a vehicle class with an init method having instance variables as name_of_vehicle, max_speed\n",
    "and average_of_vehicle."
   ]
  },
  {
   "cell_type": "code",
   "execution_count": 53,
   "id": "be0f08e5",
   "metadata": {},
   "outputs": [],
   "source": [
    "class vehicle:\n",
    "    def __init__(self,name,mx_speed,avg):\n",
    "        self.name_of_vehicle = name\n",
    "        self.max_speed = mx_speed\n",
    "        self.average_of_vehicle = avg"
   ]
  },
  {
   "cell_type": "code",
   "execution_count": 54,
   "id": "44d8d39c",
   "metadata": {},
   "outputs": [],
   "source": [
    "vehicle_ob = vehicle('toyota',200,10)"
   ]
  },
  {
   "cell_type": "code",
   "execution_count": 55,
   "id": "1f81a6ca",
   "metadata": {},
   "outputs": [
    {
     "data": {
      "text/plain": [
       "10"
      ]
     },
     "execution_count": 55,
     "metadata": {},
     "output_type": "execute_result"
    }
   ],
   "source": [
    "vehicle_ob.average_of_vehicle"
   ]
  },
  {
   "cell_type": "code",
   "execution_count": 56,
   "id": "1aefc1c3",
   "metadata": {},
   "outputs": [
    {
     "data": {
      "text/plain": [
       "200"
      ]
     },
     "execution_count": 56,
     "metadata": {},
     "output_type": "execute_result"
    }
   ],
   "source": [
    "vehicle_ob.max_speed"
   ]
  },
  {
   "cell_type": "code",
   "execution_count": 57,
   "id": "09a64ab9",
   "metadata": {},
   "outputs": [
    {
     "data": {
      "text/plain": [
       "'toyota'"
      ]
     },
     "execution_count": 57,
     "metadata": {},
     "output_type": "execute_result"
    }
   ],
   "source": [
    "vehicle_ob.name_of_vehicle"
   ]
  },
  {
   "cell_type": "markdown",
   "id": "d5868d26",
   "metadata": {},
   "source": [
    "Q2. Create a child class car from the vehicle class created in Que 1, which will inherit the vehicle class.\n",
    "Create a method named seating_capacity which takes capacity as an argument and returns the name of\n",
    "the vehicle and its seating capacity."
   ]
  },
  {
   "cell_type": "code",
   "execution_count": 58,
   "id": "385efd9b",
   "metadata": {},
   "outputs": [],
   "source": [
    "class car(vehicle):\n",
    "    def seating_capacity(self,capacity):\n",
    "        return f\"The {capacity} seater {self.name_of_vehicle}\""
   ]
  },
  {
   "cell_type": "code",
   "execution_count": 59,
   "id": "636454c7",
   "metadata": {},
   "outputs": [],
   "source": [
    "ob2 = car('mercedes',350,15)"
   ]
  },
  {
   "cell_type": "code",
   "execution_count": 60,
   "id": "f1f63356",
   "metadata": {},
   "outputs": [
    {
     "name": "stdout",
     "output_type": "stream",
     "text": [
      "The 5 seater mercedes\n"
     ]
    }
   ],
   "source": [
    "print(ob2.seating_capacity(5))"
   ]
  },
  {
   "cell_type": "markdown",
   "id": "790fddeb",
   "metadata": {},
   "source": [
    "Q3. What is multiple inheritance? Write a python code to demonstrate multiple inheritance."
   ]
  },
  {
   "cell_type": "code",
   "execution_count": 61,
   "id": "246d3000",
   "metadata": {},
   "outputs": [],
   "source": [
    "# multiple inheritance is where a child class inherits from multiple parent classes\n",
    "class A:\n",
    "    def a(self):\n",
    "        return \"class A\"\n",
    "class B:\n",
    "    def b(self):\n",
    "        return \"class B\"\n",
    "class C(A,B):\n",
    "    pass"
   ]
  },
  {
   "cell_type": "code",
   "execution_count": 62,
   "id": "d1abefbe",
   "metadata": {},
   "outputs": [],
   "source": [
    "mi_ob = C()"
   ]
  },
  {
   "cell_type": "code",
   "execution_count": 63,
   "id": "9307cdb8",
   "metadata": {},
   "outputs": [
    {
     "data": {
      "text/plain": [
       "'class A'"
      ]
     },
     "execution_count": 63,
     "metadata": {},
     "output_type": "execute_result"
    }
   ],
   "source": [
    "mi_ob.a()"
   ]
  },
  {
   "cell_type": "code",
   "execution_count": 64,
   "id": "eb97ad23",
   "metadata": {},
   "outputs": [
    {
     "data": {
      "text/plain": [
       "'class B'"
      ]
     },
     "execution_count": 64,
     "metadata": {},
     "output_type": "execute_result"
    }
   ],
   "source": [
    "mi_ob.b()"
   ]
  },
  {
   "cell_type": "markdown",
   "id": "79ae0842",
   "metadata": {},
   "source": [
    "Q4. What are getter and setter in python? Create a class and create a getter and a setter method in this\n",
    "class."
   ]
  },
  {
   "cell_type": "markdown",
   "id": "fb8c79da",
   "metadata": {},
   "source": [
    "A getter is a method that returns the current value of an instance variable, while a setter is a method that sets a new value for the instance variable. The getter and setter methods can be used to implement data encapsulation and ensure proper validation or manipulation of the variable values."
   ]
  },
  {
   "cell_type": "code",
   "execution_count": 65,
   "id": "1ded2406",
   "metadata": {},
   "outputs": [],
   "source": [
    "class Person:\n",
    "    def __init__(self, name):\n",
    "        self._name = name  # Note the use of underscore prefix to indicate it's a private variable\n",
    "\n",
    "    def get_name(self):\n",
    "        return self._name\n",
    "\n",
    "    def set_name(self, new_name):\n",
    "        self._name = new_name\n"
   ]
  },
  {
   "cell_type": "code",
   "execution_count": 66,
   "id": "e827eca4",
   "metadata": {},
   "outputs": [
    {
     "name": "stdout",
     "output_type": "stream",
     "text": [
      "John\n",
      "Jane\n"
     ]
    }
   ],
   "source": [
    "person = Person(\"John\")\n",
    "\n",
    "# Using the getter method\n",
    "print(person.get_name())\n",
    "\n",
    "# Using the setter method\n",
    "person.set_name(\"Jane\")\n",
    "print(person.get_name())\n"
   ]
  },
  {
   "cell_type": "markdown",
   "id": "fd03ad29",
   "metadata": {},
   "source": [
    "Q5.What is method overriding in python? Write a python code to demonstrate method overriding."
   ]
  },
  {
   "cell_type": "markdown",
   "id": "b4760036",
   "metadata": {},
   "source": [
    "Method overriding in Python is a concept where a child class defines a method with the same name as a method in its parent class. When the method is called on an object of the child class, the child class's method is executed instead of the parent class's method."
   ]
  },
  {
   "cell_type": "code",
   "execution_count": 67,
   "id": "9780be01",
   "metadata": {},
   "outputs": [
    {
     "name": "stdout",
     "output_type": "stream",
     "text": [
      "The animal makes a sound.\n",
      "The dog barks.\n"
     ]
    }
   ],
   "source": [
    "class Animal:\n",
    "    def sound(self):\n",
    "        print(\"The animal makes a sound.\")\n",
    "\n",
    "\n",
    "class Dog(Animal):\n",
    "    def sound(self):\n",
    "        print(\"The dog barks.\")\n",
    "\n",
    "\n",
    "animal = Animal()\n",
    "animal.sound()\n",
    "\n",
    "dog = Dog()\n",
    "dog.sound()\n"
   ]
  },
  {
   "cell_type": "code",
   "execution_count": null,
   "id": "a5f8ea86",
   "metadata": {},
   "outputs": [],
   "source": []
  }
 ],
 "metadata": {
  "kernelspec": {
   "display_name": "Python 3 (ipykernel)",
   "language": "python",
   "name": "python3"
  },
  "language_info": {
   "codemirror_mode": {
    "name": "ipython",
    "version": 3
   },
   "file_extension": ".py",
   "mimetype": "text/x-python",
   "name": "python",
   "nbconvert_exporter": "python",
   "pygments_lexer": "ipython3",
   "version": "3.10.9"
  }
 },
 "nbformat": 4,
 "nbformat_minor": 5
}
